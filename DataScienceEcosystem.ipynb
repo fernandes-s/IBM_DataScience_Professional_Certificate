{
 "cells": [
  {
   "cell_type": "markdown",
   "id": "b8a07ad5",
   "metadata": {},
   "source": [
    "# Data Science Tools and Ecosystem"
   ]
  },
  {
   "cell_type": "markdown",
   "id": "7bd06991",
   "metadata": {},
   "source": [
    "In this notebook, Data Science Tools and Ecosystem are summarized."
   ]
  },
  {
   "cell_type": "markdown",
   "id": "7dfa4fb8",
   "metadata": {},
   "source": [
    "**Objectives:**"
   ]
  },
  {
   "cell_type": "markdown",
   "id": "88d62126",
   "metadata": {},
   "source": [
    "In this notebook you will find:\n",
    "- Languages\n",
    "- Libraries\n",
    "- Tools\n"
   ]
  },
  {
   "cell_type": "markdown",
   "id": "d052d5cf",
   "metadata": {},
   "source": [
    "Some of the popular languages that Data Scientists use are:"
   ]
  },
  {
   "cell_type": "markdown",
   "id": "b3194418",
   "metadata": {},
   "source": [
    "- Python\n",
    "- SQL\n",
    "- R\n",
    "- Hadoop\n",
    "- Apache Spark"
   ]
  },
  {
   "cell_type": "markdown",
   "id": "ebbeb7b3",
   "metadata": {},
   "source": [
    "Some of the commonly used libraries used by Data Scientists include:"
   ]
  },
  {
   "cell_type": "markdown",
   "id": "575bca95",
   "metadata": {},
   "source": [
    "- Python \n",
    "    - Pandas, NumPy, Matplotlib\n",
    "    - Scikit-Learn, Tensorflow, Keras\n",
    "- R \n",
    "    - Ggplot2, Caret, Ploty"
   ]
  },
  {
   "cell_type": "markdown",
   "id": "1ae26bf1",
   "metadata": {},
   "source": [
    "Some tools used by Data Scientists can be:"
   ]
  },
  {
   "cell_type": "markdown",
   "id": "06a8700f",
   "metadata": {},
   "source": [
    "<table align=\"left\">\n",
    "  <tr>\n",
    "    <th>Tools</th>\n",
    "  </tr>\n",
    "  <tr>\n",
    "    <td>Jupyter Notebook</td>\n",
    "  </tr>\n",
    "  <tr>\n",
    "    <td>R Studio</td>\n",
    "  </tr>\n",
    "  <tr>\n",
    "    <td>VS Code</td>\n",
    "  </tr>\n",
    "</table>\n"
   ]
  },
  {
   "cell_type": "markdown",
   "id": "d6f23a6c",
   "metadata": {},
   "source": [
    "### Below are a few examples of evaluating arithmetic expressions in Python:\n"
   ]
  },
  {
   "cell_type": "code",
   "execution_count": 3,
   "id": "94519da9",
   "metadata": {},
   "outputs": [
    {
     "data": {
      "text/plain": [
       "17"
      ]
     },
     "execution_count": 3,
     "metadata": {},
     "output_type": "execute_result"
    }
   ],
   "source": [
    "# This a simple arithmetic expression to mutiply then add integers\n",
    "(3*4)+5"
   ]
  },
  {
   "cell_type": "code",
   "execution_count": 4,
   "id": "8e91a03c",
   "metadata": {},
   "outputs": [
    {
     "name": "stdout",
     "output_type": "stream",
     "text": [
      "3.3333333333333335\n"
     ]
    }
   ],
   "source": [
    "# This will convert 200 minutes to hours by diving by 60\n",
    "minutes = 200\n",
    "hour = 60\n",
    "print(minutes / hour)"
   ]
  },
  {
   "cell_type": "markdown",
   "id": "16c33214",
   "metadata": {},
   "source": [
    "## Author\n",
    "_________________\n",
    "- Daniel Fernandes\n",
    "- <a href=\"https://github.com/fernandes-s\">Github</a>\n",
    "- <a href=\"https://linkedin.com/in/fernandesss-s\">LinkedIn</a>"
   ]
  },
  {
   "cell_type": "code",
   "execution_count": null,
   "id": "f3d849fb",
   "metadata": {},
   "outputs": [],
   "source": []
  }
 ],
 "metadata": {
  "kernelspec": {
   "display_name": "Python 3 (ipykernel)",
   "language": "python",
   "name": "python3"
  },
  "language_info": {
   "codemirror_mode": {
    "name": "ipython",
    "version": 3
   },
   "file_extension": ".py",
   "mimetype": "text/x-python",
   "name": "python",
   "nbconvert_exporter": "python",
   "pygments_lexer": "ipython3",
   "version": "3.10.9"
  }
 },
 "nbformat": 4,
 "nbformat_minor": 5
}
